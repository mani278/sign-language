{
 "cells": [
  {
   "cell_type": "markdown",
   "metadata": {},
   "source": [
    "# 6. Preprocess Data and Create Labels and Features"
   ]
  },
  {
   "cell_type": "code",
   "execution_count": 1,
   "metadata": {},
   "outputs": [],
   "source": [
    "import cv2\n",
    "import numpy as np\n",
    "import os\n",
    "from matplotlib import pyplot as plt\n",
    "import time\n",
    "import mediapipe as mp"
   ]
  },
  {
   "cell_type": "code",
   "execution_count": 2,
   "metadata": {},
   "outputs": [
    {
     "data": {
      "text/plain": [
       "['get_out',\n",
       " 'i_dont_know',\n",
       " 'i_remember',\n",
       " 'Please_give_us_privacy',\n",
       " 'Please_help_me']"
      ]
     },
     "execution_count": 2,
     "metadata": {},
     "output_type": "execute_result"
    }
   ],
   "source": [
    "os.listdir('MP_Data')"
   ]
  },
  {
   "cell_type": "code",
   "execution_count": 3,
   "metadata": {},
   "outputs": [],
   "source": [
    "# Path for exported data, numpy arrays\n",
    "DATA_PATH = os.path.join('MP_Data') \n",
    "\n",
    "# Actions that we try to detect\n",
    "actions = np.array(['get_out', 'i_dont_know', 'i_remember', \"Please_give_us_privacy\",\"Please_help_me\"])\n",
    "\n",
    "#Fifty videos worth of data\n",
    "no_sequences = 50\n",
    "\n",
    "# Videos are going to be 27 frames in length\n",
    "sequence_length = 27"
   ]
  },
  {
   "cell_type": "code",
   "execution_count": 4,
   "metadata": {},
   "outputs": [],
   "source": [
    "from sklearn.model_selection import train_test_split\n",
    "from tensorflow.keras.utils import to_categorical"
   ]
  },
  {
   "cell_type": "code",
   "execution_count": 5,
   "metadata": {},
   "outputs": [],
   "source": [
    "label_map = {label:num for num, label in enumerate(actions)}"
   ]
  },
  {
   "cell_type": "code",
   "execution_count": 6,
   "metadata": {},
   "outputs": [
    {
     "data": {
      "text/plain": [
       "{'get_out': 0,\n",
       " 'i_dont_know': 1,\n",
       " 'i_remember': 2,\n",
       " 'Please_give_us_privacy': 3,\n",
       " 'Please_help_me': 4}"
      ]
     },
     "execution_count": 6,
     "metadata": {},
     "output_type": "execute_result"
    }
   ],
   "source": [
    "label_map"
   ]
  },
  {
   "cell_type": "code",
   "execution_count": 7,
   "metadata": {},
   "outputs": [],
   "source": [
    "dataset = os.path.join('MP_Data') \n",
    "\n",
    "\n",
    "sequences, labels = [], []\n",
    "for action in actions:\n",
    "    for sequence in np.array(os.listdir(os.path.join(dataset, action))).astype(int):\n",
    "        window = []\n",
    "        for frame_num in range(sequence_length):\n",
    "            res = np.load(os.path.join(dataset, action, str(sequence), \"{}.npy\".format(frame_num)))\n",
    "            window.append(res)\n",
    "        sequences.append(window)\n",
    "        labels.append(label_map[action])"
   ]
  },
  {
   "cell_type": "code",
   "execution_count": 9,
   "metadata": {},
   "outputs": [
    {
     "data": {
      "text/plain": [
       "5"
      ]
     },
     "execution_count": 9,
     "metadata": {},
     "output_type": "execute_result"
    }
   ],
   "source": [
    "actions.shape[0]"
   ]
  },
  {
   "cell_type": "code",
   "execution_count": 10,
   "metadata": {},
   "outputs": [
    {
     "data": {
      "text/plain": [
       "(250, 27, 1662)"
      ]
     },
     "execution_count": 10,
     "metadata": {},
     "output_type": "execute_result"
    }
   ],
   "source": [
    "np.array(sequences).shape"
   ]
  },
  {
   "cell_type": "code",
   "execution_count": 11,
   "metadata": {},
   "outputs": [
    {
     "data": {
      "text/plain": [
       "(250,)"
      ]
     },
     "execution_count": 11,
     "metadata": {},
     "output_type": "execute_result"
    }
   ],
   "source": [
    "np.array(labels).shape"
   ]
  },
  {
   "cell_type": "code",
   "execution_count": 12,
   "metadata": {},
   "outputs": [],
   "source": [
    "X = np.array(sequences)\n",
    "y = to_categorical(labels).astype(int)"
   ]
  },
  {
   "cell_type": "code",
   "execution_count": 13,
   "metadata": {},
   "outputs": [
    {
     "data": {
      "text/plain": [
       "((250, 27, 1662), (250, 5))"
      ]
     },
     "execution_count": 13,
     "metadata": {},
     "output_type": "execute_result"
    }
   ],
   "source": [
    "X.shape,y.shape"
   ]
  },
  {
   "cell_type": "code",
   "execution_count": 14,
   "metadata": {},
   "outputs": [],
   "source": [
    "X_train, X_test, y_train, y_test = train_test_split(X, y, test_size=0.05)"
   ]
  },
  {
   "cell_type": "code",
   "execution_count": 15,
   "metadata": {},
   "outputs": [
    {
     "data": {
      "text/plain": [
       "((13, 5), (13, 27, 1662))"
      ]
     },
     "execution_count": 15,
     "metadata": {},
     "output_type": "execute_result"
    }
   ],
   "source": [
    "y_test.shape, X_test.shape"
   ]
  },
  {
   "cell_type": "markdown",
   "metadata": {},
   "source": [
    "# 7. Build and Train LSTM Neural Network"
   ]
  },
  {
   "cell_type": "code",
   "execution_count": 16,
   "metadata": {},
   "outputs": [],
   "source": [
    "from tensorflow.keras.models import Sequential\n",
    "from tensorflow.keras.layers import LSTM, Dense\n",
    "from tensorflow.keras.callbacks import TensorBoard"
   ]
  },
  {
   "cell_type": "code",
   "execution_count": 17,
   "metadata": {},
   "outputs": [],
   "source": [
    "log_dir = os.path.join('Logs')\n",
    "tb_callback = TensorBoard(log_dir=log_dir)"
   ]
  },
  {
   "cell_type": "code",
   "execution_count": 18,
   "metadata": {},
   "outputs": [],
   "source": [
    "model = Sequential()\n",
    "model.add(LSTM(64, return_sequences=True, activation='relu', input_shape=(27,1662)))\n",
    "model.add(LSTM(128, return_sequences=True, activation='relu'))\n",
    "model.add(LSTM(64, return_sequences=False, activation='relu'))\n",
    "model.add(Dense(64, activation='relu'))\n",
    "model.add(Dense(32, activation='relu'))\n",
    "model.add(Dense(actions.shape[0], activation='softmax'))"
   ]
  },
  {
   "cell_type": "code",
   "execution_count": 19,
   "metadata": {},
   "outputs": [],
   "source": [
    "model.compile(optimizer='Adam', loss='categorical_crossentropy', metrics=['categorical_accuracy'])"
   ]
  },
  {
   "cell_type": "code",
   "execution_count": 20,
   "metadata": {
    "scrolled": true
   },
   "outputs": [
    {
     "name": "stdout",
     "output_type": "stream",
     "text": [
      "Epoch 1/100\n",
      "8/8 [==============================] - 10s 145ms/step - loss: 1.8141 - categorical_accuracy: 0.1857\n",
      "Epoch 2/100\n",
      "8/8 [==============================] - 1s 143ms/step - loss: 1.4438 - categorical_accuracy: 0.3502\n",
      "Epoch 3/100\n",
      "8/8 [==============================] - 1s 143ms/step - loss: 0.8353 - categorical_accuracy: 0.7468\n",
      "Epoch 4/100\n",
      "8/8 [==============================] - 1s 144ms/step - loss: 0.9541 - categorical_accuracy: 0.7511\n",
      "Epoch 5/100\n",
      "8/8 [==============================] - 1s 145ms/step - loss: 1.3769 - categorical_accuracy: 0.4979\n",
      "Epoch 6/100\n",
      "8/8 [==============================] - 1s 143ms/step - loss: 1.0965 - categorical_accuracy: 0.5063\n",
      "Epoch 7/100\n",
      "8/8 [==============================] - 1s 151ms/step - loss: 0.6229 - categorical_accuracy: 0.7300\n",
      "Epoch 8/100\n",
      "8/8 [==============================] - 1s 143ms/step - loss: 0.8759 - categorical_accuracy: 0.9367\n",
      "Epoch 9/100\n",
      "8/8 [==============================] - 1s 143ms/step - loss: 2.3877 - categorical_accuracy: 0.3924\n",
      "Epoch 10/100\n",
      "8/8 [==============================] - 1s 143ms/step - loss: 1.0097 - categorical_accuracy: 0.5865\n",
      "Epoch 11/100\n",
      "8/8 [==============================] - 1s 145ms/step - loss: 0.7630 - categorical_accuracy: 0.6371\n",
      "Epoch 12/100\n",
      "8/8 [==============================] - 1s 144ms/step - loss: 0.7405 - categorical_accuracy: 0.7511\n",
      "Epoch 13/100\n",
      "8/8 [==============================] - 1s 145ms/step - loss: 0.3195 - categorical_accuracy: 0.8565\n",
      "Epoch 14/100\n",
      "8/8 [==============================] - 1s 144ms/step - loss: 0.1263 - categorical_accuracy: 0.9662\n",
      "Epoch 15/100\n",
      "8/8 [==============================] - 1s 143ms/step - loss: 0.4249 - categorical_accuracy: 0.8312\n",
      "Epoch 16/100\n",
      "8/8 [==============================] - 1s 143ms/step - loss: 0.5779 - categorical_accuracy: 0.7511\n",
      "Epoch 17/100\n",
      "8/8 [==============================] - 1s 149ms/step - loss: 0.4337 - categorical_accuracy: 0.9114\n",
      "Epoch 18/100\n",
      "8/8 [==============================] - 1s 138ms/step - loss: 0.1793 - categorical_accuracy: 0.9747\n",
      "Epoch 19/100\n",
      "8/8 [==============================] - 1s 140ms/step - loss: 0.0890 - categorical_accuracy: 0.9789\n",
      "Epoch 20/100\n",
      "8/8 [==============================] - 1s 143ms/step - loss: 0.0590 - categorical_accuracy: 0.9873\n",
      "Epoch 21/100\n",
      "8/8 [==============================] - 1s 142ms/step - loss: 0.0307 - categorical_accuracy: 0.9916\n",
      "Epoch 22/100\n",
      "8/8 [==============================] - 1s 145ms/step - loss: 0.0316 - categorical_accuracy: 0.9916\n",
      "Epoch 23/100\n",
      "8/8 [==============================] - 1s 148ms/step - loss: 0.0412 - categorical_accuracy: 0.9831\n",
      "Epoch 24/100\n",
      "8/8 [==============================] - 1s 147ms/step - loss: 0.0308 - categorical_accuracy: 0.9916\n",
      "Epoch 25/100\n",
      "8/8 [==============================] - 1s 148ms/step - loss: 0.0091 - categorical_accuracy: 0.9958\n",
      "Epoch 26/100\n",
      "8/8 [==============================] - 1s 150ms/step - loss: 0.0099 - categorical_accuracy: 1.0000\n",
      "Epoch 27/100\n",
      "8/8 [==============================] - 1s 147ms/step - loss: 0.0024 - categorical_accuracy: 1.0000\n",
      "Epoch 28/100\n",
      "8/8 [==============================] - 1s 146ms/step - loss: 0.0013 - categorical_accuracy: 1.0000\n",
      "Epoch 29/100\n",
      "8/8 [==============================] - 1s 144ms/step - loss: 7.5042e-04 - categorical_accuracy: 1.0000\n",
      "Epoch 30/100\n",
      "8/8 [==============================] - 1s 145ms/step - loss: 5.1256e-04 - categorical_accuracy: 1.0000\n",
      "Epoch 31/100\n",
      "8/8 [==============================] - 1s 144ms/step - loss: 3.7472e-04 - categorical_accuracy: 1.0000\n",
      "Epoch 32/100\n",
      "8/8 [==============================] - 1s 146ms/step - loss: 3.0996e-04 - categorical_accuracy: 1.0000\n",
      "Epoch 33/100\n",
      "8/8 [==============================] - 1s 148ms/step - loss: 2.5675e-04 - categorical_accuracy: 1.0000\n",
      "Epoch 34/100\n",
      "8/8 [==============================] - 1s 146ms/step - loss: 2.2403e-04 - categorical_accuracy: 1.0000\n",
      "Epoch 35/100\n",
      "8/8 [==============================] - 1s 142ms/step - loss: 1.9615e-04 - categorical_accuracy: 1.0000\n",
      "Epoch 36/100\n",
      "8/8 [==============================] - 1s 143ms/step - loss: 1.7607e-04 - categorical_accuracy: 1.0000\n",
      "Epoch 37/100\n",
      "8/8 [==============================] - 1s 142ms/step - loss: 1.5786e-04 - categorical_accuracy: 1.0000\n",
      "Epoch 38/100\n",
      "8/8 [==============================] - 1s 142ms/step - loss: 1.4459e-04 - categorical_accuracy: 1.0000\n",
      "Epoch 39/100\n",
      "8/8 [==============================] - 1s 145ms/step - loss: 1.3309e-04 - categorical_accuracy: 1.0000\n",
      "Epoch 40/100\n",
      "8/8 [==============================] - 1s 136ms/step - loss: 1.2232e-04 - categorical_accuracy: 1.0000\n",
      "Epoch 41/100\n",
      "8/8 [==============================] - 1s 144ms/step - loss: 1.1381e-04 - categorical_accuracy: 1.0000\n",
      "Epoch 42/100\n",
      "8/8 [==============================] - 1s 144ms/step - loss: 1.0578e-04 - categorical_accuracy: 1.0000\n",
      "Epoch 43/100\n",
      "8/8 [==============================] - 1s 145ms/step - loss: 9.9130e-05 - categorical_accuracy: 1.0000\n",
      "Epoch 44/100\n",
      "8/8 [==============================] - 1s 143ms/step - loss: 9.3238e-05 - categorical_accuracy: 1.0000\n",
      "Epoch 45/100\n",
      "8/8 [==============================] - 1s 144ms/step - loss: 8.7720e-05 - categorical_accuracy: 1.0000\n",
      "Epoch 46/100\n",
      "8/8 [==============================] - 1s 144ms/step - loss: 8.2962e-05 - categorical_accuracy: 1.0000\n",
      "Epoch 47/100\n",
      "8/8 [==============================] - 1s 149ms/step - loss: 7.8514e-05 - categorical_accuracy: 1.0000\n",
      "Epoch 48/100\n",
      "8/8 [==============================] - 1s 146ms/step - loss: 7.4509e-05 - categorical_accuracy: 1.0000\n",
      "Epoch 49/100\n",
      "8/8 [==============================] - 1s 146ms/step - loss: 7.0894e-05 - categorical_accuracy: 1.0000\n",
      "Epoch 50/100\n",
      "8/8 [==============================] - 1s 146ms/step - loss: 6.7523e-05 - categorical_accuracy: 1.0000\n",
      "Epoch 51/100\n",
      "8/8 [==============================] - 1s 145ms/step - loss: 6.4405e-05 - categorical_accuracy: 1.0000\n",
      "Epoch 52/100\n",
      "8/8 [==============================] - 1s 146ms/step - loss: 6.1562e-05 - categorical_accuracy: 1.0000\n",
      "Epoch 53/100\n",
      "8/8 [==============================] - 1s 148ms/step - loss: 5.8874e-05 - categorical_accuracy: 1.0000\n",
      "Epoch 54/100\n",
      "8/8 [==============================] - 1s 144ms/step - loss: 5.6312e-05 - categorical_accuracy: 1.0000\n",
      "Epoch 55/100\n",
      "8/8 [==============================] - 1s 149ms/step - loss: 5.3879e-05 - categorical_accuracy: 1.0000\n",
      "Epoch 56/100\n",
      "8/8 [==============================] - 1s 150ms/step - loss: 5.1785e-05 - categorical_accuracy: 1.0000\n",
      "Epoch 57/100\n",
      "8/8 [==============================] - 1s 149ms/step - loss: 4.9713e-05 - categorical_accuracy: 1.0000\n",
      "Epoch 58/100\n",
      "8/8 [==============================] - 1s 145ms/step - loss: 4.7838e-05 - categorical_accuracy: 1.0000\n",
      "Epoch 59/100\n",
      "8/8 [==============================] - 1s 142ms/step - loss: 4.6115e-05 - categorical_accuracy: 1.0000\n",
      "Epoch 60/100\n",
      "8/8 [==============================] - 1s 144ms/step - loss: 4.4435e-05 - categorical_accuracy: 1.0000\n",
      "Epoch 61/100\n",
      "8/8 [==============================] - 1s 144ms/step - loss: 4.2810e-05 - categorical_accuracy: 1.0000\n",
      "Epoch 62/100\n",
      "8/8 [==============================] - 1s 147ms/step - loss: 4.1317e-05 - categorical_accuracy: 1.0000\n",
      "Epoch 63/100\n",
      "8/8 [==============================] - 1s 151ms/step - loss: 3.9953e-05 - categorical_accuracy: 1.0000\n",
      "Epoch 64/100\n",
      "8/8 [==============================] - 1s 143ms/step - loss: 3.8648e-05 - categorical_accuracy: 1.0000\n",
      "Epoch 65/100\n",
      "8/8 [==============================] - 1s 146ms/step - loss: 3.7380e-05 - categorical_accuracy: 1.0000\n",
      "Epoch 66/100\n",
      "8/8 [==============================] - 1s 151ms/step - loss: 3.6215e-05 - categorical_accuracy: 1.0000\n",
      "Epoch 67/100\n",
      "8/8 [==============================] - 1s 146ms/step - loss: 3.5091e-05 - categorical_accuracy: 1.0000\n",
      "Epoch 68/100\n",
      "8/8 [==============================] - 1s 154ms/step - loss: 3.4016e-05 - categorical_accuracy: 1.0000\n",
      "Epoch 69/100\n",
      "8/8 [==============================] - 1s 145ms/step - loss: 3.2986e-05 - categorical_accuracy: 1.0000\n",
      "Epoch 70/100\n",
      "8/8 [==============================] - 1s 147ms/step - loss: 3.2031e-05 - categorical_accuracy: 1.0000\n",
      "Epoch 71/100\n",
      "8/8 [==============================] - 1s 152ms/step - loss: 3.1048e-05 - categorical_accuracy: 1.0000\n",
      "Epoch 72/100\n"
     ]
    },
    {
     "name": "stdout",
     "output_type": "stream",
     "text": [
      "8/8 [==============================] - 1s 151ms/step - loss: 3.0212e-05 - categorical_accuracy: 1.0000\n",
      "Epoch 73/100\n",
      "8/8 [==============================] - 1s 142ms/step - loss: 2.9287e-05 - categorical_accuracy: 1.0000\n",
      "Epoch 74/100\n",
      "8/8 [==============================] - 1s 144ms/step - loss: 2.8471e-05 - categorical_accuracy: 1.0000\n",
      "Epoch 75/100\n",
      "8/8 [==============================] - 1s 145ms/step - loss: 2.7683e-05 - categorical_accuracy: 1.0000\n",
      "Epoch 76/100\n",
      "8/8 [==============================] - 1s 143ms/step - loss: 2.6936e-05 - categorical_accuracy: 1.0000\n",
      "Epoch 77/100\n",
      "8/8 [==============================] - 1s 146ms/step - loss: 2.6245e-05 - categorical_accuracy: 1.0000\n",
      "Epoch 78/100\n",
      "8/8 [==============================] - 1s 148ms/step - loss: 2.5537e-05 - categorical_accuracy: 1.0000\n",
      "Epoch 79/100\n",
      "8/8 [==============================] - 1s 152ms/step - loss: 2.4845e-05 - categorical_accuracy: 1.0000\n",
      "Epoch 80/100\n",
      "8/8 [==============================] - 1s 153ms/step - loss: 2.4214e-05 - categorical_accuracy: 1.0000\n",
      "Epoch 81/100\n",
      "8/8 [==============================] - 1s 157ms/step - loss: 2.3591e-05 - categorical_accuracy: 1.0000\n",
      "Epoch 82/100\n",
      "8/8 [==============================] - 1s 150ms/step - loss: 2.2997e-05 - categorical_accuracy: 1.0000\n",
      "Epoch 83/100\n",
      "8/8 [==============================] - 1s 154ms/step - loss: 2.2418e-05 - categorical_accuracy: 1.0000\n",
      "Epoch 84/100\n",
      "8/8 [==============================] - 1s 154ms/step - loss: 2.1882e-05 - categorical_accuracy: 1.0000\n",
      "Epoch 85/100\n",
      "8/8 [==============================] - 1s 147ms/step - loss: 2.1397e-05 - categorical_accuracy: 1.0000\n",
      "Epoch 86/100\n",
      "8/8 [==============================] - 1s 152ms/step - loss: 2.0869e-05 - categorical_accuracy: 1.0000\n",
      "Epoch 87/100\n",
      "8/8 [==============================] - 1s 150ms/step - loss: 2.0420e-05 - categorical_accuracy: 1.0000\n",
      "Epoch 88/100\n",
      "8/8 [==============================] - 1s 156ms/step - loss: 1.9908e-05 - categorical_accuracy: 1.0000\n",
      "Epoch 89/100\n",
      "8/8 [==============================] - 1s 149ms/step - loss: 1.9439e-05 - categorical_accuracy: 1.0000\n",
      "Epoch 90/100\n",
      "8/8 [==============================] - 1s 149ms/step - loss: 1.9008e-05 - categorical_accuracy: 1.0000\n",
      "Epoch 91/100\n",
      "8/8 [==============================] - 1s 152ms/step - loss: 1.8579e-05 - categorical_accuracy: 1.0000\n",
      "Epoch 92/100\n",
      "8/8 [==============================] - 1s 154ms/step - loss: 1.8178e-05 - categorical_accuracy: 1.0000\n",
      "Epoch 93/100\n",
      "8/8 [==============================] - 1s 155ms/step - loss: 1.7794e-05 - categorical_accuracy: 1.0000\n",
      "Epoch 94/100\n",
      "8/8 [==============================] - 1s 146ms/step - loss: 1.7405e-05 - categorical_accuracy: 1.0000\n",
      "Epoch 95/100\n",
      "8/8 [==============================] - 1s 147ms/step - loss: 1.7032e-05 - categorical_accuracy: 1.0000\n",
      "Epoch 96/100\n",
      "8/8 [==============================] - 1s 150ms/step - loss: 1.6657e-05 - categorical_accuracy: 1.0000\n",
      "Epoch 97/100\n",
      "8/8 [==============================] - 1s 150ms/step - loss: 1.6330e-05 - categorical_accuracy: 1.0000\n",
      "Epoch 98/100\n",
      "8/8 [==============================] - 1s 136ms/step - loss: 1.6006e-05 - categorical_accuracy: 1.0000\n",
      "Epoch 99/100\n",
      "8/8 [==============================] - 1s 135ms/step - loss: 1.5662e-05 - categorical_accuracy: 1.0000\n",
      "Epoch 100/100\n",
      "8/8 [==============================] - 1s 145ms/step - loss: 1.5335e-05 - categorical_accuracy: 1.0000\n"
     ]
    },
    {
     "data": {
      "text/plain": [
       "<keras.callbacks.History at 0x1fd0fd869a0>"
      ]
     },
     "execution_count": 20,
     "metadata": {},
     "output_type": "execute_result"
    }
   ],
   "source": [
    "model.fit(X_train, y_train, epochs=100, callbacks=[tb_callback])"
   ]
  },
  {
   "cell_type": "code",
   "execution_count": 21,
   "metadata": {
    "scrolled": false
   },
   "outputs": [
    {
     "name": "stdout",
     "output_type": "stream",
     "text": [
      "Model: \"sequential\"\n",
      "_________________________________________________________________\n",
      " Layer (type)                Output Shape              Param #   \n",
      "=================================================================\n",
      " lstm (LSTM)                 (None, 27, 64)            442112    \n",
      "                                                                 \n",
      " lstm_1 (LSTM)               (None, 27, 128)           98816     \n",
      "                                                                 \n",
      " lstm_2 (LSTM)               (None, 64)                49408     \n",
      "                                                                 \n",
      " dense (Dense)               (None, 64)                4160      \n",
      "                                                                 \n",
      " dense_1 (Dense)             (None, 32)                2080      \n",
      "                                                                 \n",
      " dense_2 (Dense)             (None, 5)                 165       \n",
      "                                                                 \n",
      "=================================================================\n",
      "Total params: 596,741\n",
      "Trainable params: 596,741\n",
      "Non-trainable params: 0\n",
      "_________________________________________________________________\n"
     ]
    }
   ],
   "source": [
    "model.summary()"
   ]
  },
  {
   "cell_type": "markdown",
   "metadata": {},
   "source": [
    "# 8. Make Predictions"
   ]
  },
  {
   "cell_type": "code",
   "execution_count": 22,
   "metadata": {},
   "outputs": [
    {
     "name": "stdout",
     "output_type": "stream",
     "text": [
      "1/1 [==============================] - 4s 4s/step\n"
     ]
    }
   ],
   "source": [
    "res = model.predict(X_test)"
   ]
  },
  {
   "cell_type": "code",
   "execution_count": 28,
   "metadata": {},
   "outputs": [
    {
     "data": {
      "text/plain": [
       "array([3.9973110e-19, 1.2593890e-12, 1.0000000e+00, 1.9386395e-13,\n",
       "       2.9349058e-15], dtype=float32)"
      ]
     },
     "execution_count": 28,
     "metadata": {},
     "output_type": "execute_result"
    }
   ],
   "source": [
    "res[4]"
   ]
  },
  {
   "cell_type": "code",
   "execution_count": 25,
   "metadata": {},
   "outputs": [
    {
     "data": {
      "text/plain": [
       "'i_remember'"
      ]
     },
     "execution_count": 25,
     "metadata": {},
     "output_type": "execute_result"
    }
   ],
   "source": [
    "actions[np.argmax(res[4])]"
   ]
  },
  {
   "cell_type": "code",
   "execution_count": 29,
   "metadata": {},
   "outputs": [
    {
     "data": {
      "text/plain": [
       "'i_remember'"
      ]
     },
     "execution_count": 29,
     "metadata": {},
     "output_type": "execute_result"
    }
   ],
   "source": [
    "actions[np.argmax(y_test[4])]"
   ]
  },
  {
   "cell_type": "markdown",
   "metadata": {},
   "source": [
    "# 9. Save Weights"
   ]
  },
  {
   "cell_type": "code",
   "execution_count": 30,
   "metadata": {},
   "outputs": [],
   "source": [
    "model.save('mani.h5')"
   ]
  },
  {
   "cell_type": "markdown",
   "metadata": {},
   "source": [
    "# 10. Evaluation using Confusion Matrix and Accuracy"
   ]
  },
  {
   "cell_type": "code",
   "execution_count": 46,
   "metadata": {},
   "outputs": [],
   "source": [
    "from sklearn.metrics import multilabel_confusion_matrix, accuracy_score"
   ]
  },
  {
   "cell_type": "code",
   "execution_count": 47,
   "metadata": {},
   "outputs": [],
   "source": [
    "yhat = model.predict(X_test)"
   ]
  },
  {
   "cell_type": "code",
   "execution_count": 48,
   "metadata": {},
   "outputs": [],
   "source": [
    "ytrue = np.argmax(y_test, axis=1).tolist()\n",
    "yhat = np.argmax(yhat, axis=1).tolist()"
   ]
  },
  {
   "cell_type": "code",
   "execution_count": 49,
   "metadata": {},
   "outputs": [
    {
     "data": {
      "text/plain": [
       "array([[[17,  0],\n",
       "        [ 0,  1]],\n",
       "\n",
       "       [[16,  0],\n",
       "        [ 0,  2]],\n",
       "\n",
       "       [[16,  0],\n",
       "        [ 0,  2]],\n",
       "\n",
       "       [[13,  0],\n",
       "        [ 0,  5]],\n",
       "\n",
       "       [[15,  0],\n",
       "        [ 0,  3]],\n",
       "\n",
       "       [[13,  0],\n",
       "        [ 0,  5]]], dtype=int64)"
      ]
     },
     "execution_count": 49,
     "metadata": {},
     "output_type": "execute_result"
    }
   ],
   "source": [
    "multilabel_confusion_matrix(ytrue, yhat)"
   ]
  },
  {
   "cell_type": "code",
   "execution_count": 50,
   "metadata": {},
   "outputs": [
    {
     "data": {
      "text/plain": [
       "1.0"
      ]
     },
     "execution_count": 50,
     "metadata": {},
     "output_type": "execute_result"
    }
   ],
   "source": [
    "accuracy_score(ytrue, yhat)"
   ]
  },
  {
   "cell_type": "code",
   "execution_count": null,
   "metadata": {},
   "outputs": [],
   "source": []
  }
 ],
 "metadata": {
  "kernelspec": {
   "display_name": "Python 3 (ipykernel)",
   "language": "python",
   "name": "python3"
  },
  "language_info": {
   "codemirror_mode": {
    "name": "ipython",
    "version": 3
   },
   "file_extension": ".py",
   "mimetype": "text/x-python",
   "name": "python",
   "nbconvert_exporter": "python",
   "pygments_lexer": "ipython3",
   "version": "3.9.13"
  }
 },
 "nbformat": 4,
 "nbformat_minor": 2
}
